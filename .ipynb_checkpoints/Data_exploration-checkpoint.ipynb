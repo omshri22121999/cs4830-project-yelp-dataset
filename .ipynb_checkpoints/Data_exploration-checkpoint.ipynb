{
 "cells": [
  {
   "cell_type": "code",
   "execution_count": 1,
   "metadata": {},
   "outputs": [],
   "source": [
    "# Importing libraries\n",
    "\n",
    "from pyspark.sql.session import SparkSession\n",
    "from pyspark.ml import Pipeline\n",
    "import pyspark.sql.functions as f\n",
    "from pyspark.ml.feature import StopWordsRemover, Tokenizer, Word2Vec\n",
    "from pyspark.sql.functions import col\n",
    "import matplotlib.pyplot as plt\n",
    "import seaborn as sns"
   ]
  },
  {
   "cell_type": "code",
   "execution_count": 2,
   "metadata": {},
   "outputs": [],
   "source": [
    "# Creating a spark session\n",
    "\n",
    "spark = SparkSession(sc)"
   ]
  },
  {
   "cell_type": "markdown",
   "metadata": {},
   "source": [
    "## Loading the data"
   ]
  },
  {
   "cell_type": "code",
   "execution_count": 3,
   "metadata": {},
   "outputs": [
    {
     "name": "stdout",
     "output_type": "stream",
     "text": [
      "root\n",
      " |-- text: string (nullable = true)\n",
      " |-- stars: double (nullable = true)\n",
      "\n"
     ]
    }
   ],
   "source": [
    "# Loading the data\n",
    "\n",
    "path = \"gs://bdl2021_final_project/yelp_train.json\"\n",
    "yelpDF = spark.read.json(path).select('text','stars')\n",
    "yelpDF.printSchema()"
   ]
  },
  {
   "cell_type": "markdown",
   "metadata": {},
   "source": [
    "## Visualizing the data"
   ]
  },
  {
   "cell_type": "code",
   "execution_count": 4,
   "metadata": {},
   "outputs": [
    {
     "name": "stdout",
     "output_type": "stream",
     "text": [
      "+--------------------+-----+\n",
      "|                text|stars|\n",
      "+--------------------+-----+\n",
      "|I had my sofa, lo...|  5.0|\n",
      "|Again great servi...|  5.0|\n",
      "|Opening night, ne...|  4.0|\n",
      "|Fun times. Great ...|  4.0|\n",
      "|I wanted to like ...|  2.0|\n",
      "|Someone with my c...|  2.0|\n",
      "|If you're looking...|  1.0|\n",
      "|My friend won a f...|  5.0|\n",
      "|My least favorite...|  2.0|\n",
      "|I didn't like the...|  3.0|\n",
      "+--------------------+-----+\n",
      "only showing top 10 rows\n",
      "\n"
     ]
    }
   ],
   "source": [
    "# Visualizing the data\n",
    "\n",
    "yelpDF.show(10)"
   ]
  },
  {
   "cell_type": "code",
   "execution_count": 5,
   "metadata": {},
   "outputs": [
    {
     "name": "stdout",
     "output_type": "stream",
     "text": [
      "+-------+---------------------+------------------+\n",
      "|summary|                 text|             stars|\n",
      "+-------+---------------------+------------------+\n",
      "|  count|              7863924|           7863924|\n",
      "|   mean|                 null|3.7035633864213335|\n",
      "| stddev|                 null| 1.490442523543927|\n",
      "|    min|                    !|               1.0|\n",
      "|    max|，chocolate lava c...|               5.0|\n",
      "+-------+---------------------+------------------+\n",
      "\n"
     ]
    }
   ],
   "source": [
    "# Metrics of data\n",
    "\n",
    "yelpDF.describe().show()"
   ]
  },
  {
   "cell_type": "markdown",
   "metadata": {},
   "source": [
    "## Metrics based on stars"
   ]
  },
  {
   "cell_type": "code",
   "execution_count": 6,
   "metadata": {},
   "outputs": [
    {
     "data": {
      "text/plain": [
       "[Row(stars=1.0),\n",
       " Row(stars=4.0),\n",
       " Row(stars=3.0),\n",
       " Row(stars=2.0),\n",
       " Row(stars=5.0)]"
      ]
     },
     "execution_count": 6,
     "metadata": {},
     "output_type": "execute_result"
    }
   ],
   "source": [
    "# Stars present in the data\n",
    "\n",
    "yelpDF.select('stars').distinct().collect()"
   ]
  },
  {
   "cell_type": "code",
   "execution_count": 7,
   "metadata": {
    "scrolled": true
   },
   "outputs": [
    {
     "name": "stdout",
     "output_type": "stream",
     "text": [
      "+-----+-------+\n",
      "|stars|  count|\n",
      "+-----+-------+\n",
      "|  1.0|1258529|\n",
      "|  4.0|1640767|\n",
      "|  3.0| 825739|\n",
      "|  2.0| 622906|\n",
      "|  5.0|3515983|\n",
      "+-----+-------+\n",
      "\n"
     ]
    }
   ],
   "source": [
    "# Count of each stars ratings\n",
    "\n",
    "yelpDF.groupBy(\"stars\").count().show()"
   ]
  },
  {
   "cell_type": "markdown",
   "metadata": {},
   "source": [
    "## Special characters visualizations"
   ]
  },
  {
   "cell_type": "code",
   "execution_count": 8,
   "metadata": {},
   "outputs": [],
   "source": [
    "# Checking special characters\n",
    "\n",
    "yelpDF_speacial = yelpDF.withColumn(\"special\", f.regexp_replace(yelpDF.text, \"[a-zA-Z0-9\\s+\\.,\\']\", \"\"))"
   ]
  },
  {
   "cell_type": "code",
   "execution_count": 9,
   "metadata": {},
   "outputs": [
    {
     "name": "stdout",
     "output_type": "stream",
     "text": [
      "+--------------------+-----+-----------+\n",
      "|                text|stars|    special|\n",
      "+--------------------+-----+-----------+\n",
      "|I had my sofa, lo...|  5.0|           |\n",
      "|Again great servi...|  5.0|       !!!!|\n",
      "|Opening night, ne...|  4.0|       -&/!|\n",
      "|Fun times. Great ...|  4.0|        ()!|\n",
      "|I wanted to like ...|  2.0|  /\"\"/$!!/$|\n",
      "|Someone with my c...|  2.0|$\"\"\"\"()--()|\n",
      "|If you're looking...|  1.0|      /!!$!|\n",
      "|My friend won a f...|  5.0|    -(:)!**|\n",
      "|My least favorite...|  2.0|          !|\n",
      "|I didn't like the...|  3.0|           |\n",
      "+--------------------+-----+-----------+\n",
      "only showing top 10 rows\n",
      "\n"
     ]
    }
   ],
   "source": [
    "yelpDF_speacial.show(10)"
   ]
  },
  {
   "cell_type": "code",
   "execution_count": 10,
   "metadata": {},
   "outputs": [],
   "source": [
    "# Checking length of special characters\n",
    "\n",
    "yelpDF_speacial = yelpDF_speacial.withColumn(\"len\", f.length(\"special\"))"
   ]
  },
  {
   "cell_type": "code",
   "execution_count": 11,
   "metadata": {},
   "outputs": [
    {
     "name": "stdout",
     "output_type": "stream",
     "text": [
      "+--------------------+-----+-----------+---+\n",
      "|                text|stars|    special|len|\n",
      "+--------------------+-----+-----------+---+\n",
      "|I had my sofa, lo...|  5.0|           |  0|\n",
      "|Again great servi...|  5.0|       !!!!|  4|\n",
      "|Opening night, ne...|  4.0|       -&/!|  4|\n",
      "|Fun times. Great ...|  4.0|        ()!|  3|\n",
      "|I wanted to like ...|  2.0|  /\"\"/$!!/$|  9|\n",
      "|Someone with my c...|  2.0|$\"\"\"\"()--()| 11|\n",
      "|If you're looking...|  1.0|      /!!$!|  5|\n",
      "|My friend won a f...|  5.0|    -(:)!**|  7|\n",
      "|My least favorite...|  2.0|          !|  1|\n",
      "|I didn't like the...|  3.0|           |  0|\n",
      "+--------------------+-----+-----------+---+\n",
      "only showing top 10 rows\n",
      "\n"
     ]
    }
   ],
   "source": [
    "yelpDF_speacial.show(10)"
   ]
  },
  {
   "cell_type": "code",
   "execution_count": 12,
   "metadata": {},
   "outputs": [
    {
     "name": "stdout",
     "output_type": "stream",
     "text": [
      "+-----+------------------+\n",
      "|stars|          avg(len)|\n",
      "+-----+------------------+\n",
      "|  1.0|  5.25879896291623|\n",
      "|  4.0|   4.7428135743832|\n",
      "|  3.0| 4.785662297650953|\n",
      "|  2.0| 4.806415414203748|\n",
      "|  5.0|3.9387607960561812|\n",
      "+-----+------------------+\n",
      "\n"
     ]
    }
   ],
   "source": [
    "# Length of special characters grouped by stars\n",
    "\n",
    "yelpDF_speacial.groupBy(\"stars\").agg(f.mean(\"len\")).show()"
   ]
  },
  {
   "cell_type": "code",
   "execution_count": 13,
   "metadata": {},
   "outputs": [
    {
     "name": "stdout",
     "output_type": "stream",
     "text": [
      "+-----+--------+--------+\n",
      "|stars|max(len)|min(len)|\n",
      "+-----+--------+--------+\n",
      "|  1.0|     857|       0|\n",
      "|  4.0|    3235|       0|\n",
      "|  3.0|    3065|       0|\n",
      "|  2.0|    2674|       0|\n",
      "|  5.0|    2756|       0|\n",
      "+-----+--------+--------+\n",
      "\n"
     ]
    }
   ],
   "source": [
    "# Max and min special characters length\n",
    "\n",
    "yelpDF_speacial.groupBy(\"stars\").agg(f.max(\"len\"),f.min(\"len\")).show()"
   ]
  },
  {
   "cell_type": "markdown",
   "metadata": {},
   "source": [
    "## Useful text visualization"
   ]
  },
  {
   "cell_type": "code",
   "execution_count": 14,
   "metadata": {},
   "outputs": [],
   "source": [
    "# Removing special characters and creating new columns\n",
    "\n",
    "yelpDF = yelpDF.withColumn(\"text_raw\", f.regexp_replace(\"text\", \"[^a-zA-Z0-9\\s+\\']\", \"\"))\n",
    "yelpDF = yelpDF.withColumn(\"text_split\", f.split(f.trim(\"text_raw\"),\"\\s+\"))"
   ]
  },
  {
   "cell_type": "code",
   "execution_count": 15,
   "metadata": {},
   "outputs": [
    {
     "name": "stdout",
     "output_type": "stream",
     "text": [
      "+--------------------+-----+--------------------+--------------------+\n",
      "|                text|stars|            text_raw|          text_split|\n",
      "+--------------------+-----+--------------------+--------------------+\n",
      "|I had my sofa, lo...|  5.0|I had my sofa lov...|[I, had, my, sofa...|\n",
      "|Again great servi...|  5.0|Again great servi...|[Again, great, se...|\n",
      "|Opening night, ne...|  4.0|Opening night new...|[Opening, night, ...|\n",
      "|Fun times. Great ...|  4.0|Fun times Great a...|[Fun, times, Grea...|\n",
      "|I wanted to like ...|  2.0|I wanted to like ...|[I, wanted, to, l...|\n",
      "|Someone with my c...|  2.0|Someone with my c...|[Someone, with, m...|\n",
      "|If you're looking...|  1.0|If you're looking...|[If, you're, look...|\n",
      "|My friend won a f...|  5.0|My friend won a f...|[My, friend, won,...|\n",
      "|My least favorite...|  2.0|My least favorite...|[My, least, favor...|\n",
      "|I didn't like the...|  3.0|I didn't like the...|[I, didn't, like,...|\n",
      "+--------------------+-----+--------------------+--------------------+\n",
      "only showing top 10 rows\n",
      "\n"
     ]
    }
   ],
   "source": [
    "yelpDF.show(10)"
   ]
  },
  {
   "cell_type": "code",
   "execution_count": 16,
   "metadata": {},
   "outputs": [],
   "source": [
    "# Removing stopwords\n",
    "\n",
    "remover = StopWordsRemover(inputCol=\"text_split\", outputCol=\"clean_words\")"
   ]
  },
  {
   "cell_type": "code",
   "execution_count": 17,
   "metadata": {},
   "outputs": [],
   "source": [
    "yelpDF_cleaned = remover.transform(yelpDF)"
   ]
  },
  {
   "cell_type": "code",
   "execution_count": 18,
   "metadata": {},
   "outputs": [
    {
     "name": "stdout",
     "output_type": "stream",
     "text": [
      "+--------------------+-----+--------------------+--------------------+--------------------+\n",
      "|                text|stars|            text_raw|          text_split|         clean_words|\n",
      "+--------------------+-----+--------------------+--------------------+--------------------+\n",
      "|I had my sofa, lo...|  5.0|I had my sofa lov...|[I, had, my, sofa...|[sofa, love, seat...|\n",
      "|Again great servi...|  5.0|Again great servi...|[Again, great, se...|[great, service, ...|\n",
      "|Opening night, ne...|  4.0|Opening night new...|[Opening, night, ...|[Opening, night, ...|\n",
      "|Fun times. Great ...|  4.0|Fun times Great a...|[Fun, times, Grea...|[Fun, times, Grea...|\n",
      "|I wanted to like ...|  2.0|I wanted to like ...|[I, wanted, to, l...|[wanted, like, pl...|\n",
      "|Someone with my c...|  2.0|Someone with my c...|[Someone, with, m...|[Someone, company...|\n",
      "|If you're looking...|  1.0|If you're looking...|[If, you're, look...|[looking, fun, pl...|\n",
      "|My friend won a f...|  5.0|My friend won a f...|[My, friend, won,...|[friend, won, fre...|\n",
      "|My least favorite...|  2.0|My least favorite...|[My, least, favor...|[least, favorite,...|\n",
      "|I didn't like the...|  3.0|I didn't like the...|[I, didn't, like,...|[like, band, choi...|\n",
      "+--------------------+-----+--------------------+--------------------+--------------------+\n",
      "only showing top 10 rows\n",
      "\n"
     ]
    }
   ],
   "source": [
    "yelpDF_cleaned.show(10)"
   ]
  },
  {
   "cell_type": "code",
   "execution_count": 19,
   "metadata": {},
   "outputs": [],
   "source": [
    "# Extracting length of columns\n",
    "\n",
    "yelpDF_cleaned_2 =  yelpDF_cleaned.withColumn(\"len\", f.size(yelpDF_cleaned.clean_words))"
   ]
  },
  {
   "cell_type": "code",
   "execution_count": 20,
   "metadata": {},
   "outputs": [
    {
     "name": "stdout",
     "output_type": "stream",
     "text": [
      "+-----+-----------------+\n",
      "|stars|         avg(len)|\n",
      "+-----+-----------------+\n",
      "|  1.0| 67.1039205294435|\n",
      "|  4.0| 57.3586590905351|\n",
      "|  3.0|64.47407231582861|\n",
      "|  2.0|68.02846175827493|\n",
      "|  5.0|43.82228071068603|\n",
      "+-----+-----------------+\n",
      "\n"
     ]
    }
   ],
   "source": [
    "yelpDF_cleaned_2.groupBy(\"stars\").agg(f.mean(\"len\")).show()"
   ]
  },
  {
   "cell_type": "code",
   "execution_count": 21,
   "metadata": {},
   "outputs": [
    {
     "name": "stdout",
     "output_type": "stream",
     "text": [
      "+-----+-----------------+\n",
      "|stars| stddev_samp(len)|\n",
      "+-----+-----------------+\n",
      "|  1.0|61.34469645262868|\n",
      "|  4.0|50.10694847826725|\n",
      "|  3.0|54.08884901830599|\n",
      "|  2.0| 57.7456645273143|\n",
      "|  5.0|40.78185220359059|\n",
      "+-----+-----------------+\n",
      "\n"
     ]
    }
   ],
   "source": [
    "yelpDF_cleaned_2.groupBy(\"stars\").agg(f.stddev(\"len\")).show()"
   ]
  },
  {
   "cell_type": "code",
   "execution_count": null,
   "metadata": {},
   "outputs": [],
   "source": [
    "# Storing the data based on stars\n",
    "\n",
    "yelpDF_cleaned_2.write.mode(\"overwrite\").partitionBy(\"stars\").parquet(\"gs://model-bucket-bdl/data\")"
   ]
  },
  {
   "cell_type": "markdown",
   "metadata": {},
   "source": [
    "## Distribution of review size based on stars"
   ]
  },
  {
   "cell_type": "code",
   "execution_count": 6,
   "metadata": {},
   "outputs": [
    {
     "name": "stderr",
     "output_type": "stream",
     "text": [
      "/opt/conda/miniconda3/lib/python3.8/site-packages/seaborn/distributions.py:2557: FutureWarning: `distplot` is a deprecated function and will be removed in a future version. Please adapt your code to use either `displot` (a figure-level function with similar flexibility) or `kdeplot` (an axes-level function for kernel density plots).\n",
      "  warnings.warn(msg, FutureWarning)\n",
      "/opt/conda/miniconda3/lib/python3.8/site-packages/seaborn/distributions.py:2557: FutureWarning: `distplot` is a deprecated function and will be removed in a future version. Please adapt your code to use either `displot` (a figure-level function with similar flexibility) or `kdeplot` (an axes-level function for kernel density plots).\n",
      "  warnings.warn(msg, FutureWarning)\n",
      "/opt/conda/miniconda3/lib/python3.8/site-packages/seaborn/distributions.py:2557: FutureWarning: `distplot` is a deprecated function and will be removed in a future version. Please adapt your code to use either `displot` (a figure-level function with similar flexibility) or `kdeplot` (an axes-level function for kernel density plots).\n",
      "  warnings.warn(msg, FutureWarning)\n",
      "/opt/conda/miniconda3/lib/python3.8/site-packages/seaborn/distributions.py:2557: FutureWarning: `distplot` is a deprecated function and will be removed in a future version. Please adapt your code to use either `displot` (a figure-level function with similar flexibility) or `kdeplot` (an axes-level function for kernel density plots).\n",
      "  warnings.warn(msg, FutureWarning)\n",
      "/opt/conda/miniconda3/lib/python3.8/site-packages/seaborn/distributions.py:2557: FutureWarning: `distplot` is a deprecated function and will be removed in a future version. Please adapt your code to use either `displot` (a figure-level function with similar flexibility) or `kdeplot` (an axes-level function for kernel density plots).\n",
      "  warnings.warn(msg, FutureWarning)\n"
     ]
    },
    {
     "data": {
      "image/png": "[encoded data removed]",
      "text/plain": [
       "<Figure size 1080x720 with 1 Axes>"
      ]
     },
     "metadata": {
      "needs_background": "light"
     },
     "output_type": "display_data"
    }
   ],
   "source": [
    "plt.figure(figsize=(15,10))\n",
    "for i in [\"1.0\",\"2.0\",\"3.0\",\"4.0\",\"5.0\"]:\n",
    "    d = spark.read.parquet('gs://model-bucket-bdl/data/stars='+i)\n",
    "\n",
    "    counts = d.select('len').collect()\n",
    "    sns.distplot(counts, hist = False, kde = True,\n",
    "                 label = i)\n",
    "plt.xlabel(\"Text Length\")\n",
    "plt.legend(title=\"Stars\")\n",
    "plt.show()"
   ]
  }
 ],
 "metadata": {
  "kernelspec": {
   "display_name": "Python 3",
   "language": "python",
   "name": "python3"
  },
  "language_info": {
   "codemirror_mode": {
    "name": "ipython",
    "version": 3
   },
   "file_extension": ".py",
   "mimetype": "text/x-python",
   "name": "python",
   "nbconvert_exporter": "python",
   "pygments_lexer": "ipython3",
   "version": "3.7.3"
  }
 },
 "nbformat": 4,
 "nbformat_minor": 5
}
